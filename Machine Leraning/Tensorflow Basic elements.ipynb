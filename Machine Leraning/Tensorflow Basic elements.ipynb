{
 "cells": [
  {
   "cell_type": "markdown",
   "metadata": {},
   "source": [
    "# Tensorflow Basic elements"
   ]
  },
  {
   "cell_type": "markdown",
   "metadata": {},
   "source": [
    "### Tensors ,Variable & Placeholder\n",
    "\n",
    "1. tf.placeholder(tf.float32, shape=(4, 4))\n",
    "2. tf.identity(x)\n",
    "3. tf.zeros()\n",
    "4. tf.ones()\n",
    "5. tf.Variable()\n",
    "\n",
    "6. tf.constant()\n",
    "7. tf.linspace()\n",
    "8. tf.range()\n",
    "\n",
    "9. tf.random_normal()\n",
    "10. tf.random_uniform()\n",
    "\n",
    "11. tf.ones_like()\n",
    "12. tf.zeros_like()\n",
    "13. tf.fill()"
   ]
  },
  {
   "cell_type": "markdown",
   "metadata": {},
   "source": [
    "### Matrices\n",
    "\n",
    "1. tf.diag()\n",
    "2. tf.truncated_normal()\n",
    "3. tf.convert_to_tensor()\n",
    "\n",
    "4. tf.matmul()\n",
    "5. tf.transpose()\n",
    "6. tf.matrix_determinant()\n",
    "7. tf.matrix_inverse()\n",
    "8. tf.cholesky()\n",
    "9. tf.self_adjoint_eig()"
   ]
  },
  {
   "cell_type": "markdown",
   "metadata": {},
   "source": [
    "### Operations\n",
    "\n",
    "1. tf.div()\n",
    "2. tf.truediv()\n",
    "3. tf.floordiv()\n",
    "4. tf.mod()\n",
    "5. tf.cross()\n",
    "6. tf.sin()\n",
    "7. tf.cos()\n",
    "8. tf.subtract()\n",
    "9. tf.square()\n",
    "10. tf.multiply()\n",
    "11. tf.add()\n",
    "\n",
    "12. tf.abs()  \n",
    "13. tf.sqrt()  \n",
    "14. tf.round()  \n",
    "15. tf.reduce_mean()  \n",
    "16. tf.squeeze()  \n",
    "17. tf.equal()  \n",
    "18. tf.cast()  "
   ]
  },
  {
   "cell_type": "markdown",
   "metadata": {},
   "source": [
    "### Activation Functions\n",
    "\n",
    "\n",
    "import tensorflow as tf\n",
    "\n",
    "1. tf.nn.relu  \n",
    "2. tf.nn.relu6  \n",
    "3. tf.nn.sigmoid  \n",
    "4. tf.nn.tanh  \n",
    "5. tf.nn.softsign  \n",
    "6. tf.nn.softplus  \n",
    "7. tf.nn.elu  "
   ]
  },
  {
   "cell_type": "markdown",
   "metadata": {},
   "source": [
    "### Layers\n",
    "\n",
    "1. tf.nn.conv2d()\n",
    "2. "
   ]
  },
  {
   "cell_type": "markdown",
   "metadata": {},
   "source": [
    "### Loss Functions\n",
    "\n",
    "1. tf.nn.sigmoid_cross_entropy_with_logits()\n",
    "2. tf.nn.weighted_cross_entropy_with_logits()\n",
    "3. tf.nn.softmax_cross_entropy_with_logits_v2()\n",
    "4. tf.nn.sparse_softmax_cross_entropy_with_logits()"
   ]
  },
  {
   "cell_type": "markdown",
   "metadata": {},
   "source": [
    "### Optimizers\n",
    "\n",
    "1. tf.train.GradientDescentOptimizer()"
   ]
  },
  {
   "cell_type": "code",
   "execution_count": null,
   "metadata": {},
   "outputs": [],
   "source": []
  }
 ],
 "metadata": {
  "kernelspec": {
   "display_name": "Python 3",
   "language": "python",
   "name": "python3"
  },
  "language_info": {
   "codemirror_mode": {
    "name": "ipython",
    "version": 3
   },
   "file_extension": ".py",
   "mimetype": "text/x-python",
   "name": "python",
   "nbconvert_exporter": "python",
   "pygments_lexer": "ipython3",
   "version": "3.7.2"
  }
 },
 "nbformat": 4,
 "nbformat_minor": 2
}
