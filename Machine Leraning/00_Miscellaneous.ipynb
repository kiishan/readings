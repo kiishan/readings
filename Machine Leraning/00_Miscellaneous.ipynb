{
 "cells": [
  {
   "cell_type": "markdown",
   "metadata": {},
   "source": [
    "### Calculating the number of Parameters in Convolution Neural Networks (CNNs)\n",
    "\n",
    "https://towardsdatascience.com/understanding-and-calculating-the-number-of-parameters-in-convolution-neural-networks-cnns-fc88790d530d"
   ]
  },
  {
   "cell_type": "markdown",
   "metadata": {},
   "source": [
    "<i></i>        | Activation Shape | Activation Size | #parameters|\n",
    "------------   | ---------------- | --------------- | -----------|\n",
    "    Input:     | (32,32,3)        | 3072            | 0          |\n",
    "CONV1(f=5,s=1) | (28,28,8)        | 6272            | 208        |\n",
    "    POOL1      | (14,14,8)        | 1568            | 0          |\n",
    "CONV2(f=5,s=1) | (10,10,16)       | 1600            | 416        |\n",
    "    POOL2      | (5,5,16)         | 400             | 0          |\n",
    "     FC3       | (120,1)          | 120             | 48001      |\n",
    "     FC3       | (84,1)           | 84              | 10081      |\n",
    "   Softmax     | (10,1)           | 10              | 841        |"
   ]
  },
  {
   "cell_type": "markdown",
   "metadata": {},
   "source": [
    "### Hyperparameter Optimization in Machine Learning Models\n",
    "\n",
    "https://www.datacamp.com/community/tutorials/parameter-optimization-machine-learning-models"
   ]
  },
  {
   "cell_type": "code",
   "execution_count": null,
   "metadata": {},
   "outputs": [],
   "source": []
  }
 ],
 "metadata": {
  "kernelspec": {
   "display_name": "Python 3",
   "language": "python",
   "name": "python3"
  },
  "language_info": {
   "codemirror_mode": {
    "name": "ipython",
    "version": 3
   },
   "file_extension": ".py",
   "mimetype": "text/x-python",
   "name": "python",
   "nbconvert_exporter": "python",
   "pygments_lexer": "ipython3",
   "version": "3.7.1"
  }
 },
 "nbformat": 4,
 "nbformat_minor": 2
}
