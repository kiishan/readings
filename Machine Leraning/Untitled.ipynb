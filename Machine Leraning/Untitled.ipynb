{
 "cells": [
  {
   "cell_type": "markdown",
   "metadata": {},
   "source": [
    "## Regression\n",
    "\n",
    "1. what is the cost, error function used in linear regression\n",
    "2. if i have multiple values/dimentions present for each observation. how do i select variable for simple linear regression.\n",
    "3. how to assess model accuracy and quality.\n",
    "4. how exactly linear regression algorith learns.\n",
    "5. What are the four assumptions of linear regression (simple linear and multiple)?\n",
    "6. What is meant by dependent and independent variables? (y is dependent, x are independents)  \n",
    "7. What is difference between simple linear and multiple linear regressions?  \n",
    "8. What is difference between regression model, and estimated regression equation?  \n",
    "9. What is a residual? How is it computed? (actual y – estimated y)  \n",
    "10. How do you interpret b1 in simple linear regression?  \n",
    "11. How do you interpret b1 in multiple linear regressions?\n",
    "12. What is the difference between coefficient of determination, and coefficient of correlation?\n",
    "13. How to write estimated regression equation from coefficient output?\n",
    "14. What is adjusted R2?\n",
    "15. How to compute R2? (R2 = SSTR/SST; and also R2 is square of R)\n",
    "16. How are SSTR, SSE and SST related? (SST = SSTR + SSE); Also note: in SPSS ANOVA output associated with Regression>> Regression is same as Treatment and Residual is same as Errors.\n",
    "17. How to find MSTR and MSE from SSTR, SSE and df? (MSTR = SSTR / p and MSE = SSE/(n-p-1), where p=no. of independent variables)\n",
    "\n"
   ]
  },
  {
   "cell_type": "markdown",
   "metadata": {},
   "source": [
    "## Hypothesis Testing\n",
    "\n",
    "1. What happens when p value for f test is lower than alpha i.e. what do you conclude?\n",
    "2. What happens when p value for t test is lower than alpha i.e. what do you conclude?\n",
    "3. What are df associated with f test and t tests for simple linear and multiple linear regressions?\n",
    "4. How to find f test and t test p values?\n",
    "5. What are H0/Ha for f test and t tests?\n",
    "6. When do you reject H0 and when do you fail to reject H0 – for f and t tests?\n",
    "7. How to find f test values from MSTR, MSE? (f = MSTR / MSE)\n",
    "8. How to find t test values from b1 and Sb1? (t test value = b1 / sb1)\n",
    "9. When does f = t2 (for simple linear or multiple linear regression)?\n"
   ]
  },
  {
   "cell_type": "markdown",
   "metadata": {},
   "source": [
    "## Logistic Regression\n",
    "\n",
    "1. What is a logistic function? What is the range of values of a logistic function?  \n",
    "   \n",
    "   f(z) = 1/(1+e -z )\n",
    "\n",
    "   The values of a logistic function will range from 0 to 1. The values of Z will vary from -infinity to +infinity.\n",
    "   \n",
    "2. Why is logistic regression very popular?\n",
    "Logistic regression is famous because it can convert the values of logits (logodds), which can range from -infinity to +infinity to a range between 0 and 1. As logistic functions output the probability of occurrence of an event, it can be applied to many real-life scenarios. It is for this reason that the logistic regression model is very popular.\n",
    "\n",
    "3. What is the formula for the logistic regression function?\n",
    "f(z) = 1/(1+e^-(α+1X1+2X2+….+kXk))\n",
    "\n",
    "4. How can the probability of a logistic regression model be expressed as conditional probability?\n",
    "P(Discrete value of Target variable | X1, X2, X3….Xk).  It is the probability of the target variable to take up a discrete value (either 0 or 1 in case of binary classification problems) when the values of independent variables are given. For example, the probability an employee will attrite (target variable) given his attributes such as his age, salary, KRA’s, etc\n",
    "\n",
    "5. What are odds?\n",
    "It is the ratio of the probability of an event occurring to the probability of the event not occurring. For example, let’s assume that the probability of winning a lottery is 0.01. Then, the probability of not winning is 1- 0.01 = 0.99.\n",
    "\n",
    "The odds of winning the lottery = (Probability of winning)/(probability of not winning)\n",
    "\n",
    "The odds of winning the lottery = 0.01/0.99\n",
    "\n",
    "The odds of winning the lottery is 1 to 99, and the odds of not winning the lottery is 99 to 1.\n",
    "\n",
    "\n",
    "6. What are the outputs of the logistic model and the logistic function?\n",
    "The logistic model outputs the logits, i.e. log odds; and the logistic function outputs the probabilities.\n",
    "\n",
    "   Logistic model = α+1X1+2X2+….+kXk. The output of the same will be logits.\n",
    "\n",
    "   Logistic function = f(z) = 1/(1+e-(α+1X1+2X2+….+kXk)). The output, in this case, will be the probabilities.\n",
    "   \n",
    "   "
   ]
  },
  {
   "cell_type": "markdown",
   "metadata": {},
   "source": [
    "[Logistic regression] (https://www.upgrad.com/blog/machine-learning-interview/) \n",
    "[Decision Trees] (https://vitalflux.com/decision-tree-algorithm-concepts-interview-questions-set-1/)\n",
    "[Validation Techniques] (https://vitalflux.com/machine-learning-validation-techniques-interview-questions/)"
   ]
  }
 ],
 "metadata": {
  "kernelspec": {
   "display_name": "Python 3",
   "language": "python",
   "name": "python3"
  },
  "language_info": {
   "codemirror_mode": {
    "name": "ipython",
    "version": 3
   },
   "file_extension": ".py",
   "mimetype": "text/x-python",
   "name": "python",
   "nbconvert_exporter": "python",
   "pygments_lexer": "ipython3",
   "version": "3.7.1"
  }
 },
 "nbformat": 4,
 "nbformat_minor": 2
}
