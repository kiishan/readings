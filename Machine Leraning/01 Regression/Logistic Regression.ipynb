{
 "cells": [
  {
   "cell_type": "markdown",
   "metadata": {},
   "source": [
    "# Logistic Regression\n",
    "\n",
    "Logistic Regression is a Machine Learning classification algorithm that is used to predict the probability of a categorical dependent variable. In logistic regression, the dependent variable is a binary variable that contains data coded as 1 (yes, success, etc.) or 0 (no, failure, etc.). In other words, the logistic regression model predicts P(Y=1) as a function of X."
   ]
  },
  {
   "cell_type": "markdown",
   "metadata": {},
   "source": [
    "__Logistic Regression Assumptions__\n",
    "\n",
    "- Binary logistic regression requires the dependent variable to be binary.\n",
    "- For a binary regression, the factor level 1 of the dependent variable should represent the desired outcome.\n",
    "- Only the meaningful variables should be included.\n",
    "- The independent variables should be independent of each other. That is, the model should have little or no multicollinearity.\n",
    "- The independent variables are linearly related to the log odds.\n",
    "- Logistic regression requires quite large sample sizes.\n",
    "\n",
    "In Linear Regression, the output is the weighted sum of inputs. Logistic Regression is a generalized Linear Regression in the sense that we don’t output the weighted sum of inputs directly, but we pass it through a function that can map any real value between 0 and 1.\n",
    "\n",
    "the output of the linear regression is passed through an activation function that can map any real value between 0 and 1.\n",
    "\n",
    "The activation function that is used is known as the sigmoid function. The plot of the sigmoid function looks like\n",
    "\n",
    "We can see that the value of the sigmoid function always lies between 0 and 1. The value is exactly 0.5 at X=0. We can use 0.5 as the probability threshold to determine the classes. If the probability is greater than 0.5, we classify it as Class-1(Y=1) or else as Class-0(Y=0).\n",
    "\n",
    "Before we build our model let’s look at the assumptions made by Logistic Regression\n",
    "\n",
    "The dependent variable must be categorical\n",
    "The independent variables(features) must be independent (to avoid multicollinearity)."
   ]
  },
  {
   "cell_type": "raw",
   "metadata": {},
   "source": []
  }
 ],
 "metadata": {
  "kernelspec": {
   "display_name": "Python 3",
   "language": "python",
   "name": "python3"
  },
  "language_info": {
   "codemirror_mode": {
    "name": "ipython",
    "version": 3
   },
   "file_extension": ".py",
   "mimetype": "text/x-python",
   "name": "python",
   "nbconvert_exporter": "python",
   "pygments_lexer": "ipython3",
   "version": "3.7.1"
  }
 },
 "nbformat": 4,
 "nbformat_minor": 2
}
